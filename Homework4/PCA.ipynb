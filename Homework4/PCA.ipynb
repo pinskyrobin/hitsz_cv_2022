{
 "cells": [
  {
   "cell_type": "markdown",
   "metadata": {
    "collapsed": true,
    "pycharm": {
     "name": "#%% md\n"
    }
   },
   "source": [
    "# 人脸识别之PCA实现\n",
    "## 导入MyPCA及必要类库"
   ]
  },
  {
   "cell_type": "code",
   "execution_count": 1,
   "metadata": {
    "collapsed": false,
    "pycharm": {
     "name": "#%%\n"
    }
   },
   "outputs": [],
   "source": [
    "from PCA import MyPCA\n",
    "from preprocess import read_img\n",
    "from sklearn.model_selection import train_test_split\n",
    "import matplotlib.pyplot as plt"
   ]
  },
  {
   "cell_type": "markdown",
   "metadata": {
    "collapsed": false
   },
   "source": [
    "## 读取数据并划分数据集"
   ]
  },
  {
   "cell_type": "code",
   "execution_count": 2,
   "metadata": {
    "collapsed": false,
    "pycharm": {
     "name": "#%%\n"
    }
   },
   "outputs": [],
   "source": [
    "path = 'Grp13Dataset/'\n",
    "wide = 70\n",
    "height = 80\n",
    "images, labels = read_img(path, wide, height)\n",
    "train_x, test_x, train_y, test_y = train_test_split(images, labels, test_size=0.3)"
   ]
  },
  {
   "cell_type": "markdown",
   "metadata": {
    "collapsed": false,
    "pycharm": {
     "name": "#%% md\n"
    }
   },
   "source": [
    "## 进行训练与预测\n",
    "首先进行一个简单的使用,根据讲义要求,ratio默认取0.99"
   ]
  },
  {
   "cell_type": "code",
   "execution_count": 3,
   "metadata": {
    "collapsed": false,
    "pycharm": {
     "name": "#%%\n"
    }
   },
   "outputs": [
    {
     "name": "stdout",
     "output_type": "stream",
     "text": [
      "n_components: 229 accuracy:0.9186991869918699\n"
     ]
    }
   ],
   "source": [
    "model = MyPCA()\n",
    "model.train(train_x, train_y)\n",
    "acc = model.predict(test_x, test_y)\n",
    "print(\"n_components: \" + str(model.n_components) +\" accuracy:\" + str(acc))"
   ]
  },
  {
   "cell_type": "markdown",
   "metadata": {
    "collapsed": false,
    "pycharm": {
     "name": "#%% md\n"
    }
   },
   "source": [
    "对比模型预测的标签和真实标签,可以看出模型的精度较高"
   ]
  },
  {
   "cell_type": "code",
   "execution_count": 4,
   "metadata": {
    "collapsed": false,
    "pycharm": {
     "name": "#%%\n"
    }
   },
   "outputs": [
    {
     "name": "stdout",
     "output_type": "stream",
     "text": [
      "predicted_labels:  [14 19 25  5 37 41 23  2 14 36 29  9  9  7 32  5 10  8 37  9 25  9 28  8\n",
      " 22  2 40 14 33 13  6  3  9 26 12  8 23  7 13 21  6 27 18  8 38 18 15 21\n",
      "  7 27  8 12 40  1 30  8 35 34 16 17 29 21 24  1 16 18  6 11  1 38  8  4\n",
      "  3 30 26 31  4 37 26  9  9 22 27 30 30 34 23 37 14  1 17  8 26 15 38 23\n",
      " 28 20 23 30 17 28 10 15 22 41 37 18 28  9 15 26 16 11 24  3 39  5  5  5\n",
      " 41 35  1]\n",
      "true_labels:  [14 19 25  5 37 41 23  2 14 36 29  9 31  7 32 40 10  8 28  9  3 17 28  8\n",
      " 22  2 40 14 33 13  6 17  9 26 12  8 23  7 13 21  6 27 18  8 38 18 15 21\n",
      "  7 27  8 12 40  1 30  8 35 34 16 17 29 21 24  1 16 18  6 11  1 38  8  4\n",
      "  3 30 26 31 17 37 26 31  9 22 27 30 30 34 23 37 14  1 17  8 26 15 38 23\n",
      " 28 20 23 30 17 28 10 15 22 41 37 18 28 31 15 26 16 11 24  3 39  5 40  5\n",
      " 41 35  1]\n"
     ]
    }
   ],
   "source": [
    "print(\"predicted_labels: \", model.predicted_labels)\n",
    "print(\"true_labels: \", test_y)"
   ]
  },
  {
   "cell_type": "markdown",
   "metadata": {
    "collapsed": false,
    "pycharm": {
     "name": "#%% md\n"
    }
   },
   "source": [
    "## 循环测试作图"
   ]
  },
  {
   "cell_type": "code",
   "execution_count": 5,
   "metadata": {
    "collapsed": false,
    "pycharm": {
     "name": "#%%\n"
    }
   },
   "outputs": [
    {
     "name": "stdout",
     "output_type": "stream",
     "text": [
      "n_components: 1 ratio: 0.0 accuracy:0.18699186991869918\n",
      "n_components: 1 ratio: 0.1 accuracy:0.18699186991869918\n",
      "n_components: 1 ratio: 0.2 accuracy:0.18699186991869918\n",
      "n_components: 2 ratio: 0.3 accuracy:0.3821138211382114\n",
      "n_components: 3 ratio: 0.4 accuracy:0.5528455284552846\n",
      "n_components: 5 ratio: 0.5 accuracy:0.6422764227642277\n",
      "n_components: 9 ratio: 0.6 accuracy:0.7723577235772358\n",
      "n_components: 17 ratio: 0.7 accuracy:0.8373983739837398\n",
      "n_components: 34 ratio: 0.8 accuracy:0.8943089430894309\n",
      "n_components: 35 ratio: 0.805 accuracy:0.9024390243902439\n",
      "n_components: 37 ratio: 0.81 accuracy:0.9105691056910569\n",
      "n_components: 38 ratio: 0.815 accuracy:0.9024390243902439\n",
      "n_components: 40 ratio: 0.82 accuracy:0.9105691056910569\n",
      "n_components: 41 ratio: 0.825 accuracy:0.9105691056910569\n",
      "n_components: 43 ratio: 0.83 accuracy:0.9186991869918699\n",
      "n_components: 45 ratio: 0.835 accuracy:0.9186991869918699\n",
      "n_components: 46 ratio: 0.84 accuracy:0.9105691056910569\n",
      "n_components: 48 ratio: 0.845 accuracy:0.9186991869918699\n",
      "n_components: 50 ratio: 0.85 accuracy:0.9186991869918699\n",
      "n_components: 53 ratio: 0.855 accuracy:0.9186991869918699\n",
      "n_components: 55 ratio: 0.86 accuracy:0.9186991869918699\n",
      "n_components: 57 ratio: 0.865 accuracy:0.9186991869918699\n",
      "n_components: 60 ratio: 0.87 accuracy:0.9186991869918699\n",
      "n_components: 63 ratio: 0.875 accuracy:0.9186991869918699\n",
      "n_components: 65 ratio: 0.88 accuracy:0.9186991869918699\n",
      "n_components: 69 ratio: 0.885 accuracy:0.9186991869918699\n",
      "n_components: 72 ratio: 0.89 accuracy:0.9186991869918699\n",
      "n_components: 75 ratio: 0.895 accuracy:0.9186991869918699\n",
      "n_components: 79 ratio: 0.9 accuracy:0.9186991869918699\n",
      "n_components: 83 ratio: 0.905 accuracy:0.9186991869918699\n",
      "n_components: 87 ratio: 0.91 accuracy:0.9186991869918699\n",
      "n_components: 91 ratio: 0.915 accuracy:0.9186991869918699\n",
      "n_components: 96 ratio: 0.92 accuracy:0.9186991869918699\n",
      "n_components: 101 ratio: 0.925 accuracy:0.9186991869918699\n",
      "n_components: 106 ratio: 0.93 accuracy:0.9186991869918699\n",
      "n_components: 112 ratio: 0.935 accuracy:0.9186991869918699\n",
      "n_components: 118 ratio: 0.94 accuracy:0.9186991869918699\n",
      "n_components: 125 ratio: 0.945 accuracy:0.9186991869918699\n",
      "n_components: 133 ratio: 0.95 accuracy:0.9186991869918699\n",
      "n_components: 141 ratio: 0.955 accuracy:0.9186991869918699\n",
      "n_components: 149 ratio: 0.96 accuracy:0.9186991869918699\n",
      "n_components: 159 ratio: 0.965 accuracy:0.9186991869918699\n",
      "n_components: 170 ratio: 0.97 accuracy:0.9186991869918699\n",
      "n_components: 182 ratio: 0.975 accuracy:0.9186991869918699\n",
      "n_components: 195 ratio: 0.98 accuracy:0.9186991869918699\n",
      "n_components: 211 ratio: 0.985 accuracy:0.9186991869918699\n",
      "n_components: 229 ratio: 0.99 accuracy:0.9186991869918699\n",
      "n_components: 234 ratio: 0.991 accuracy:0.9186991869918699\n",
      "n_components: 238 ratio: 0.992 accuracy:0.9186991869918699\n",
      "n_components: 243 ratio: 0.993 accuracy:0.9186991869918699\n",
      "n_components: 247 ratio: 0.994 accuracy:0.9186991869918699\n",
      "n_components: 253 ratio: 0.995 accuracy:0.9186991869918699\n",
      "n_components: 258 ratio: 0.996 accuracy:0.9186991869918699\n",
      "n_components: 264 ratio: 0.997 accuracy:0.9186991869918699\n",
      "n_components: 270 ratio: 0.998 accuracy:0.9186991869918699\n",
      "n_components: 277 ratio: 0.999 accuracy:0.9186991869918699\n"
     ]
    },
    {
     "data": {
      "image/png": "[encoded data removed]",
      "text/plain": [
       "<Figure size 432x288 with 1 Axes>"
      ]
     },
     "metadata": {
      "needs_background": "light"
     },
     "output_type": "display_data"
    }
   ],
   "source": [
    "x, y = [], []\n",
    "\n",
    "for i in range(0, 80, 10):\n",
    "    model = MyPCA(ratio=i/100)\n",
    "    model.train(train_x, train_y)\n",
    "    acc = model.predict(test_x, test_y)\n",
    "    x.append(i/100)\n",
    "    y.append(acc)\n",
    "    print(\"n_components: \" + str(model.n_components) +\n",
    "          \" ratio: \" + str(i/100) +\n",
    "          \" accuracy:\" + str(acc))\n",
    "\n",
    "for i in range(800, 990, 5):\n",
    "    model = MyPCA(ratio=i/1000)\n",
    "    model.train(train_x, train_y)\n",
    "    acc = model.predict(test_x, test_y)\n",
    "    x.append(i/1000)\n",
    "    y.append(acc)\n",
    "    print(\"n_components: \" + str(model.n_components) +\n",
    "          \" ratio: \" + str(i/1000) +\n",
    "          \" accuracy:\" + str(acc))\n",
    "\n",
    "for i in range(9900, 10000, 10):\n",
    "    model = MyPCA(ratio=i/10000)\n",
    "    model.train(train_x, train_y)\n",
    "    acc = model.predict(test_x, test_y)\n",
    "    x.append(i/10000)\n",
    "    y.append(acc)\n",
    "    print(\"n_components: \" + str(model.n_components) +\n",
    "          \" ratio: \" + str(i/10000) +\n",
    "          \" accuracy:\" + str(acc))\n",
    "\n",
    "plt.xlabel('ratio')\n",
    "plt.ylabel('accuracy')\n",
    "plt.plot(x, y)\n",
    "plt.show()"
   ]
  },
  {
   "cell_type": "markdown",
   "metadata": {
    "collapsed": false,
    "pycharm": {
     "name": "#%% md\n"
    }
   },
   "source": [
    "观察图像,不难发现在 $ratio=0.81$ 时,模型的精度已经达到了较高的水平,此时特征数为 37 个,PCA 有效地降低了数据的维度"
   ]
  }
 ],
 "metadata": {
  "kernelspec": {
   "display_name": "Python 3",
   "language": "python",
   "name": "python3"
  },
  "language_info": {
   "codemirror_mode": {
    "name": "ipython",
    "version": 2
   },
   "file_extension": ".py",
   "mimetype": "text/x-python",
   "name": "python",
   "nbconvert_exporter": "python",
   "pygments_lexer": "ipython2",
   "version": "2.7.6"
  }
 },
 "nbformat": 4,
 "nbformat_minor": 0
}
