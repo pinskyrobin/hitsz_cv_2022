{
 "cells": [
  {
   "cell_type": "markdown",
   "metadata": {
    "collapsed": true,
    "pycharm": {
     "name": "#%% md\n"
    }
   },
   "source": [
    "# 人脸识别之LDA实现\n",
    "## 导入MyLDA及必要类库"
   ]
  },
  {
   "cell_type": "code",
   "execution_count": 1,
   "outputs": [],
   "source": [
    "from LDA import MyLDA\n",
    "from preprocess import read_img\n",
    "from sklearn.model_selection import train_test_split"
   ],
   "metadata": {
    "collapsed": false,
    "pycharm": {
     "name": "#%%\n"
    }
   }
  },
  {
   "cell_type": "markdown",
   "source": [
    "## 读取数据并划分数据集"
   ],
   "metadata": {
    "collapsed": false
   }
  },
  {
   "cell_type": "code",
   "execution_count": 2,
   "outputs": [],
   "source": [
    "path = 'Grp13Dataset/'\n",
    "wide = 70\n",
    "height = 80\n",
    "images, labels = read_img(path, wide, height)\n",
    "train_x, test_x, train_y, test_y = train_test_split(images, labels, test_size=0.3)"
   ],
   "metadata": {
    "collapsed": false,
    "pycharm": {
     "name": "#%%\n"
    }
   }
  },
  {
   "cell_type": "markdown",
   "source": [
    "## 进行训练与预测"
   ],
   "metadata": {
    "collapsed": false
   }
  },
  {
   "cell_type": "code",
   "execution_count": 3,
   "outputs": [
    {
     "name": "stdout",
     "output_type": "stream",
     "text": [
      "accuracy:0.991869918699187\n"
     ]
    }
   ],
   "source": [
    "model = MyLDA()\n",
    "model.train(train_x, train_y)\n",
    "acc = model.predict(test_x, test_y)\n",
    "print(\"accuracy:\" + str(acc))"
   ],
   "metadata": {
    "collapsed": false,
    "pycharm": {
     "name": "#%%\n"
    }
   }
  },
  {
   "cell_type": "markdown",
   "source": [
    "对比模型预测的标签和真实标签,可以看出模型的精度较高"
   ],
   "metadata": {
    "collapsed": false
   }
  },
  {
   "cell_type": "code",
   "execution_count": 4,
   "outputs": [
    {
     "name": "stdout",
     "output_type": "stream",
     "text": [
      "predicted_labels:  [ 3 17 13  5 24 36 14 25 19 37 21  1 31 36 17 21 40  6 13  9  4 26 16 32\n",
      " 31  5 38 24 23 12 36 13 29 37 27 25  5 11 37  4 32 29 37 28 28  8  8 34\n",
      " 14  6 39 10  3 17  2  2  2 14 30  1 22 16 41 22  8 27 25 22 16 31 26  5\n",
      "  4 41 34 23 18 40 33 39 27 21 27 33 26  5 40 24 22 40 28  1 20  2 38 24\n",
      " 27 15 34  3 40 30  9  7 29 13  8 39 34  5 32 17 21 28 35 36 12 26  6  5\n",
      " 11 14 30]\n",
      "true_labels:  [ 3 17 13  5 24 36 14 25 19 37 21  1 31 36 17 21 40  6 13  9  4 26 16 32\n",
      " 31  5 38 24 23 12 36 13 29 37 27 25  5 11 37  4 32 29 37 28 28  8  8 34\n",
      " 14  6 39 10  3 17  2  2  2 14 30  1 22 16 41 22  8 27 25 22 16 31 26  5\n",
      "  4 41 34 23 18  5 33 39 27 21 27 33 26  5 40 24 22 40 28  1 20  2 38 24\n",
      " 27 15 34  3 40 30  9  7 29 13  8 39 34  5 32 17 21 28 35 36 12 26  6  5\n",
      " 11 14 30]\n"
     ]
    }
   ],
   "source": [
    "print(\"predicted_labels: \", model.predicted_labels)\n",
    "print(\"true_labels: \", test_y)"
   ],
   "metadata": {
    "collapsed": false,
    "pycharm": {
     "name": "#%%\n"
    }
   }
  }
 ],
 "metadata": {
  "kernelspec": {
   "display_name": "Python 3",
   "language": "python",
   "name": "python3"
  },
  "language_info": {
   "codemirror_mode": {
    "name": "ipython",
    "version": 2
   },
   "file_extension": ".py",
   "mimetype": "text/x-python",
   "name": "python",
   "nbconvert_exporter": "python",
   "pygments_lexer": "ipython2",
   "version": "2.7.6"
  }
 },
 "nbformat": 4,
 "nbformat_minor": 0
}