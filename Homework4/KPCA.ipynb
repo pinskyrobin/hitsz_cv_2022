{
 "cells": [
  {
   "cell_type": "markdown",
   "metadata": {
    "collapsed": true,
    "pycharm": {
     "name": "#%% md\n"
    }
   },
   "source": [
    "# 人脸识别之KPCA实现\n",
    "## 导入MyKPCA及必要类库"
   ]
  },
  {
   "cell_type": "code",
   "execution_count": 1,
   "outputs": [],
   "source": [
    "from KPCA import MyKPCA\n",
    "from preprocess import read_img\n",
    "from sklearn.model_selection import train_test_split\n",
    "import matplotlib.pyplot as plt"
   ],
   "metadata": {
    "collapsed": false,
    "pycharm": {
     "name": "#%%\n"
    }
   }
  },
  {
   "cell_type": "markdown",
   "source": [
    "## 读取数据并划分数据集"
   ],
   "metadata": {
    "collapsed": false
   }
  },
  {
   "cell_type": "code",
   "execution_count": 2,
   "outputs": [],
   "source": [
    "path = 'Grp13Dataset/'\n",
    "wide = 70\n",
    "height = 80\n",
    "images, labels = read_img(path, wide, height)\n",
    "train_x, test_x, train_y, test_y = train_test_split(images, labels, test_size=0.3)"
   ],
   "metadata": {
    "collapsed": false,
    "pycharm": {
     "name": "#%%\n"
    }
   }
  },
  {
   "cell_type": "markdown",
   "source": [
    "## 进行训练与预测\n",
    "首先进行一个简单的使用,根据讲义要求, $ratio$ 默认取 0.99\n",
    "这里选用 $linear$ 线性核函数, $\\gamma$ 取 2"
   ],
   "metadata": {
    "collapsed": false,
    "pycharm": {
     "name": "#%% md\n"
    }
   }
  },
  {
   "cell_type": "code",
   "execution_count": 3,
   "outputs": [
    {
     "name": "stdout",
     "output_type": "stream",
     "text": [
      "n_components: 227 accuracy:0.943089430894309\n"
     ]
    }
   ],
   "source": [
    "model = MyKPCA()\n",
    "model.train(train_x, train_y)\n",
    "acc = model.predict(test_x, test_y)\n",
    "print(\"n_components: \" + str(model.n_components) +\" accuracy:\" + str(acc))"
   ],
   "metadata": {
    "collapsed": false,
    "pycharm": {
     "name": "#%%\n"
    }
   }
  },
  {
   "cell_type": "markdown",
   "source": [
    "对比模型预测的标签和真实标签,可以看出模型的精度较高"
   ],
   "metadata": {
    "collapsed": false,
    "pycharm": {
     "name": "#%% md\n"
    }
   }
  },
  {
   "cell_type": "code",
   "execution_count": 4,
   "outputs": [
    {
     "name": "stdout",
     "output_type": "stream",
     "text": [
      "predicted_labels:  [27  1 17 16 22 31  6  9 41  6 39 38  3 18 26 19  7 32 37 14 34 21  9 30\n",
      " 27  8 21  2 19 37 36 30 24 29  2 12 25  4  3 34 15 36 38 20 20 16 23 37\n",
      " 12 24 24 33 25 28 11 27 29 19 11  4  8  7  1 27 26  4 20  5  1 22 40 33\n",
      " 26 15 37 10 12  6 35 37 13  5 32 22 40  7 33 25 29 38 30 11  1  8 20 39\n",
      " 40 16 32  5 23 20  9  8 17 41 24 19  5  8  2 38  3 17 15 14  3 14  9 38\n",
      "  2 35 15]\n",
      "true_labels:  [27  1 17 16 22 31  6  9 41  6 39 38  3 18 26 19  7 32 37 14 34 21  9 30\n",
      " 27  8 21  2 11 37 36 30 24 29  2 12 25  4  3 34 15 36 38 20 20 16 23 28\n",
      " 12 24 24 33 25 11 11 27 29 19 11 10  8  7  1 27 26  4 20 40  1 22 40 33\n",
      " 26 15 28 10 12  6 35 28 13  5 32 22 40  7 33 25 29 38 30 11  1  8 20 39\n",
      " 40 16 32  5 23 20  9  8 17 41 24 19  5  8  2 38  3 17 15 14  3 14  9 38\n",
      "  2 35 15]\n"
     ]
    }
   ],
   "source": [
    "print(\"predicted_labels: \", model.predicted_labels)\n",
    "print(\"true_labels: \", test_y)"
   ],
   "metadata": {
    "collapsed": false,
    "pycharm": {
     "name": "#%%\n"
    }
   }
  },
  {
   "cell_type": "markdown",
   "source": [
    "## 循环测试作图"
   ],
   "metadata": {
    "collapsed": false,
    "pycharm": {
     "name": "#%% md\n"
    }
   }
  },
  {
   "cell_type": "code",
   "execution_count": 5,
   "outputs": [
    {
     "name": "stdout",
     "output_type": "stream",
     "text": [
      "n_components: 1 ratio: 0.0 accuracy:0.17886178861788618\n",
      "n_components: 1 ratio: 0.1 accuracy:0.17886178861788618\n",
      "n_components: 1 ratio: 0.2 accuracy:0.17886178861788618\n",
      "n_components: 2 ratio: 0.3 accuracy:0.35772357723577236\n",
      "n_components: 3 ratio: 0.4 accuracy:0.5040650406504065\n",
      "n_components: 5 ratio: 0.5 accuracy:0.6178861788617886\n",
      "n_components: 8 ratio: 0.6 accuracy:0.7560975609756098\n",
      "n_components: 16 ratio: 0.7 accuracy:0.8536585365853658\n",
      "n_components: 32 ratio: 0.8 accuracy:0.9024390243902439\n",
      "n_components: 33 ratio: 0.805 accuracy:0.9024390243902439\n",
      "n_components: 35 ratio: 0.81 accuracy:0.9105691056910569\n",
      "n_components: 36 ratio: 0.815 accuracy:0.9105691056910569\n",
      "n_components: 38 ratio: 0.82 accuracy:0.9105691056910569\n",
      "n_components: 39 ratio: 0.825 accuracy:0.9186991869918699\n",
      "n_components: 41 ratio: 0.83 accuracy:0.9186991869918699\n",
      "n_components: 43 ratio: 0.835 accuracy:0.9349593495934959\n",
      "n_components: 44 ratio: 0.84 accuracy:0.9349593495934959\n",
      "n_components: 46 ratio: 0.845 accuracy:0.9349593495934959\n",
      "n_components: 48 ratio: 0.85 accuracy:0.943089430894309\n",
      "n_components: 50 ratio: 0.855 accuracy:0.9349593495934959\n",
      "n_components: 53 ratio: 0.86 accuracy:0.9349593495934959\n",
      "n_components: 55 ratio: 0.865 accuracy:0.9349593495934959\n",
      "n_components: 57 ratio: 0.87 accuracy:0.9349593495934959\n",
      "n_components: 60 ratio: 0.875 accuracy:0.9349593495934959\n",
      "n_components: 63 ratio: 0.88 accuracy:0.9349593495934959\n",
      "n_components: 66 ratio: 0.885 accuracy:0.943089430894309\n",
      "n_components: 69 ratio: 0.89 accuracy:0.9349593495934959\n",
      "n_components: 72 ratio: 0.895 accuracy:0.9349593495934959\n",
      "n_components: 76 ratio: 0.9 accuracy:0.943089430894309\n",
      "n_components: 79 ratio: 0.905 accuracy:0.943089430894309\n",
      "n_components: 83 ratio: 0.91 accuracy:0.943089430894309\n",
      "n_components: 88 ratio: 0.915 accuracy:0.943089430894309\n",
      "n_components: 92 ratio: 0.92 accuracy:0.943089430894309\n",
      "n_components: 97 ratio: 0.925 accuracy:0.943089430894309\n",
      "n_components: 102 ratio: 0.93 accuracy:0.943089430894309\n",
      "n_components: 108 ratio: 0.935 accuracy:0.943089430894309\n",
      "n_components: 114 ratio: 0.94 accuracy:0.943089430894309\n",
      "n_components: 121 ratio: 0.945 accuracy:0.943089430894309\n",
      "n_components: 128 ratio: 0.95 accuracy:0.943089430894309\n",
      "n_components: 136 ratio: 0.955 accuracy:0.943089430894309\n",
      "n_components: 145 ratio: 0.96 accuracy:0.943089430894309\n",
      "n_components: 155 ratio: 0.965 accuracy:0.943089430894309\n",
      "n_components: 165 ratio: 0.97 accuracy:0.943089430894309\n",
      "n_components: 177 ratio: 0.975 accuracy:0.943089430894309\n",
      "n_components: 191 ratio: 0.98 accuracy:0.943089430894309\n",
      "n_components: 207 ratio: 0.985 accuracy:0.943089430894309\n",
      "n_components: 227 ratio: 0.99 accuracy:0.943089430894309\n",
      "n_components: 231 ratio: 0.991 accuracy:0.943089430894309\n",
      "n_components: 235 ratio: 0.992 accuracy:0.943089430894309\n",
      "n_components: 240 ratio: 0.993 accuracy:0.943089430894309\n",
      "n_components: 245 ratio: 0.994 accuracy:0.943089430894309\n",
      "n_components: 251 ratio: 0.995 accuracy:0.943089430894309\n",
      "n_components: 256 ratio: 0.996 accuracy:0.943089430894309\n",
      "n_components: 263 ratio: 0.997 accuracy:0.943089430894309\n",
      "n_components: 269 ratio: 0.998 accuracy:0.943089430894309\n",
      "n_components: 277 ratio: 0.999 accuracy:0.943089430894309\n"
     ]
    },
    {
     "data": {
      "text/plain": "<Figure size 432x288 with 1 Axes>",
      "image/png": "[encoded data removed]"
     },
     "metadata": {
      "needs_background": "light"
     },
     "output_type": "display_data"
    }
   ],
   "source": [
    "x, y = [], []\n",
    "\n",
    "for i in range(0, 80, 10):\n",
    "    model = MyKPCA(ratio=i/100)\n",
    "    model.train(train_x, train_y)\n",
    "    acc = model.predict(test_x, test_y)\n",
    "    x.append(i/100)\n",
    "    y.append(acc)\n",
    "    print(\"n_components: \" + str(model.n_components) +\n",
    "          \" ratio: \" + str(i/100) +\n",
    "          \" accuracy:\" + str(acc))\n",
    "\n",
    "for i in range(800, 990, 5):\n",
    "    model = MyKPCA(ratio=i/1000)\n",
    "    model.train(train_x, train_y)\n",
    "    acc = model.predict(test_x, test_y)\n",
    "    x.append(i/1000)\n",
    "    y.append(acc)\n",
    "    print(\"n_components: \" + str(model.n_components) +\n",
    "          \" ratio: \" + str(i/1000) +\n",
    "          \" accuracy:\" + str(acc))\n",
    "\n",
    "for i in range(9900, 10000, 10):\n",
    "    model = MyKPCA(ratio=i/10000)\n",
    "    model.train(train_x, train_y)\n",
    "    acc = model.predict(test_x, test_y)\n",
    "    x.append(i/10000)\n",
    "    y.append(acc)\n",
    "    print(\"n_components: \" + str(model.n_components) +\n",
    "          \" ratio: \" + str(i/10000) +\n",
    "          \" accuracy:\" + str(acc))\n",
    "\n",
    "plt.xlabel('ratio')\n",
    "plt.ylabel('accuracy')\n",
    "plt.plot(x, y)\n",
    "plt.show()"
   ],
   "metadata": {
    "collapsed": false,
    "pycharm": {
     "name": "#%%\n"
    }
   }
  },
  {
   "cell_type": "markdown",
   "source": [
    "观察图像,不难发现在 $ratio=0.85$ 时,模型的精度已经达到了较高的水平,此时特征数为 48 个,KPCA 有效地降低了数据的维度,且最后的效果优于 PCA"
   ],
   "metadata": {
    "collapsed": false,
    "pycharm": {
     "name": "#%% md\n"
    }
   }
  }
 ],
 "metadata": {
  "kernelspec": {
   "display_name": "Python 3",
   "language": "python",
   "name": "python3"
  },
  "language_info": {
   "codemirror_mode": {
    "name": "ipython",
    "version": 2
   },
   "file_extension": ".py",
   "mimetype": "text/x-python",
   "name": "python",
   "nbconvert_exporter": "python",
   "pygments_lexer": "ipython2",
   "version": "2.7.6"
  }
 },
 "nbformat": 4,
 "nbformat_minor": 0
}